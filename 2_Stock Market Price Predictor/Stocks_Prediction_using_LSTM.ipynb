{
 "cells": [
  {
   "cell_type": "markdown",
   "id": "97d46a79-f41e-4a7f-aa1e-b681d75e9653",
   "metadata": {},
   "source": [
    "# Predicting AMAZON-Stocks using LSTM "
   ]
  },
  {
   "cell_type": "markdown",
   "id": "2829ca4b-1607-4dbd-809d-fceff548e87f",
   "metadata": {},
   "source": [
    "### Step-01 :- Load the Time Series data (AMAZON stocks)"
   ]
  },
  {
   "cell_type": "code",
   "execution_count": 1,
   "id": "1c330a5d-0868-4271-aa5a-7350cb33163f",
   "metadata": {},
   "outputs": [
    {
     "data": {
      "text/html": [
       "<div>\n",
       "<style scoped>\n",
       "    .dataframe tbody tr th:only-of-type {\n",
       "        vertical-align: middle;\n",
       "    }\n",
       "\n",
       "    .dataframe tbody tr th {\n",
       "        vertical-align: top;\n",
       "    }\n",
       "\n",
       "    .dataframe thead th {\n",
       "        text-align: right;\n",
       "    }\n",
       "</style>\n",
       "<table border=\"1\" class=\"dataframe\">\n",
       "  <thead>\n",
       "    <tr style=\"text-align: right;\">\n",
       "      <th></th>\n",
       "      <th>Date</th>\n",
       "      <th>Open</th>\n",
       "      <th>High</th>\n",
       "      <th>Low</th>\n",
       "      <th>Close</th>\n",
       "      <th>Volume</th>\n",
       "      <th>Name</th>\n",
       "    </tr>\n",
       "  </thead>\n",
       "  <tbody>\n",
       "    <tr>\n",
       "      <th>0</th>\n",
       "      <td>2006-01-03</td>\n",
       "      <td>47.47</td>\n",
       "      <td>47.85</td>\n",
       "      <td>46.25</td>\n",
       "      <td>47.58</td>\n",
       "      <td>7582127</td>\n",
       "      <td>AMZN</td>\n",
       "    </tr>\n",
       "    <tr>\n",
       "      <th>1</th>\n",
       "      <td>2006-01-04</td>\n",
       "      <td>47.48</td>\n",
       "      <td>47.73</td>\n",
       "      <td>46.69</td>\n",
       "      <td>47.25</td>\n",
       "      <td>7440914</td>\n",
       "      <td>AMZN</td>\n",
       "    </tr>\n",
       "    <tr>\n",
       "      <th>2</th>\n",
       "      <td>2006-01-05</td>\n",
       "      <td>47.16</td>\n",
       "      <td>48.20</td>\n",
       "      <td>47.11</td>\n",
       "      <td>47.65</td>\n",
       "      <td>5417258</td>\n",
       "      <td>AMZN</td>\n",
       "    </tr>\n",
       "    <tr>\n",
       "      <th>3</th>\n",
       "      <td>2006-01-06</td>\n",
       "      <td>47.97</td>\n",
       "      <td>48.58</td>\n",
       "      <td>47.32</td>\n",
       "      <td>47.87</td>\n",
       "      <td>6154285</td>\n",
       "      <td>AMZN</td>\n",
       "    </tr>\n",
       "    <tr>\n",
       "      <th>4</th>\n",
       "      <td>2006-01-09</td>\n",
       "      <td>46.55</td>\n",
       "      <td>47.10</td>\n",
       "      <td>46.40</td>\n",
       "      <td>47.08</td>\n",
       "      <td>8945056</td>\n",
       "      <td>AMZN</td>\n",
       "    </tr>\n",
       "  </tbody>\n",
       "</table>\n",
       "</div>"
      ],
      "text/plain": [
       "         Date   Open   High    Low  Close   Volume  Name\n",
       "0  2006-01-03  47.47  47.85  46.25  47.58  7582127  AMZN\n",
       "1  2006-01-04  47.48  47.73  46.69  47.25  7440914  AMZN\n",
       "2  2006-01-05  47.16  48.20  47.11  47.65  5417258  AMZN\n",
       "3  2006-01-06  47.97  48.58  47.32  47.87  6154285  AMZN\n",
       "4  2006-01-09  46.55  47.10  46.40  47.08  8945056  AMZN"
      ]
     },
     "execution_count": 1,
     "metadata": {},
     "output_type": "execute_result"
    }
   ],
   "source": [
    "import pandas as pd\n",
    "import numpy as np\n",
    "\n",
    "import warnings \n",
    "warnings.filterwarnings(\"ignore\")\n",
    "\n",
    "df = pd.read_csv(\"AMAZON_2006_to_2018_stocks.csv\")\n",
    "df.head()"
   ]
  },
  {
   "cell_type": "code",
   "execution_count": 3,
   "id": "5fac307e-9cf8-4384-993f-ccd3c13a1e9f",
   "metadata": {},
   "outputs": [
    {
     "data": {
      "text/plain": [
       "(3019, 7)"
      ]
     },
     "execution_count": 3,
     "metadata": {},
     "output_type": "execute_result"
    }
   ],
   "source": [
    "df.shape"
   ]
  },
  {
   "cell_type": "markdown",
   "id": "c7344132-72c1-48b2-a6d8-0fb0f716fbec",
   "metadata": {},
   "source": [
    "### Step-02 :- Identify and Seperate the Target and Input features"
   ]
  },
  {
   "cell_type": "code",
   "execution_count": 21,
   "id": "376e5b85-1418-4b02-bda0-054968fa5f7a",
   "metadata": {},
   "outputs": [],
   "source": [
    "# we have to predict \"Close\" stocks value\n",
    "data = df[\"Close\"].values"
   ]
  },
  {
   "cell_type": "markdown",
   "id": "43c6104a-7ae1-434d-91f8-6f36c4ff7942",
   "metadata": {},
   "source": [
    "### Step-03 :- Preprocessing "
   ]
  },
  {
   "cell_type": "code",
   "execution_count": 7,
   "id": "fb83b595-b1ba-480f-a491-77989465e078",
   "metadata": {},
   "outputs": [
    {
     "name": "stdout",
     "output_type": "stream",
     "text": [
      "<class 'pandas.core.frame.DataFrame'>\n",
      "RangeIndex: 3019 entries, 0 to 3018\n",
      "Data columns (total 7 columns):\n",
      " #   Column  Non-Null Count  Dtype  \n",
      "---  ------  --------------  -----  \n",
      " 0   Date    3019 non-null   object \n",
      " 1   Open    3019 non-null   float64\n",
      " 2   High    3019 non-null   float64\n",
      " 3   Low     3019 non-null   float64\n",
      " 4   Close   3019 non-null   float64\n",
      " 5   Volume  3019 non-null   int64  \n",
      " 6   Name    3019 non-null   object \n",
      "dtypes: float64(4), int64(1), object(2)\n",
      "memory usage: 165.2+ KB\n"
     ]
    }
   ],
   "source": [
    "df.info()"
   ]
  },
  {
   "cell_type": "code",
   "execution_count": 9,
   "id": "74d5877b-fa1f-4710-95a5-59ab0fc3e929",
   "metadata": {},
   "outputs": [
    {
     "name": "stdout",
     "output_type": "stream",
     "text": [
      "<class 'pandas.core.frame.DataFrame'>\n",
      "RangeIndex: 3019 entries, 0 to 3018\n",
      "Data columns (total 7 columns):\n",
      " #   Column  Non-Null Count  Dtype         \n",
      "---  ------  --------------  -----         \n",
      " 0   Date    3019 non-null   datetime64[ns]\n",
      " 1   Open    3019 non-null   float64       \n",
      " 2   High    3019 non-null   float64       \n",
      " 3   Low     3019 non-null   float64       \n",
      " 4   Close   3019 non-null   float64       \n",
      " 5   Volume  3019 non-null   int64         \n",
      " 6   Name    3019 non-null   object        \n",
      "dtypes: datetime64[ns](1), float64(4), int64(1), object(1)\n",
      "memory usage: 165.2+ KB\n"
     ]
    }
   ],
   "source": [
    "# Convert \"Date\" column into 'datetime' and sort them\n",
    "df[\"Date\"] = pd.DatetimeIndex(df[\"Date\"])\n",
    "df = df.sort_values(by=\"Date\")\n",
    "df.info()"
   ]
  },
  {
   "cell_type": "code",
   "execution_count": 23,
   "id": "a0c48df1-df7a-47f7-ad02-8db8f4526681",
   "metadata": {},
   "outputs": [
    {
     "name": "stdout",
     "output_type": "stream",
     "text": [
      "(2768,)\n",
      "(251,)\n"
     ]
    }
   ],
   "source": [
    "# Train-Test Split\n",
    "years_for_train = range(2006,2017)\n",
    "years_for_test = [2017, 2018]\n",
    "\n",
    "train_data = data[df[\"Date\"].dt.year.isin(years_for_train)]\n",
    "\n",
    "test_data = data[df[\"Date\"].dt.year.isin(years_for_test)]\n",
    "\n",
    "print(train_data.shape)\n",
    "print(test_data.shape)"
   ]
  },
  {
   "cell_type": "code",
   "execution_count": 35,
   "id": "f1fd4147-06df-421b-8881-d3fd0a52655b",
   "metadata": {},
   "outputs": [],
   "source": [
    "def create_sequences(dataset, time_steps):\n",
    "    X= []\n",
    "    y= []\n",
    "    for i in range(len(dataset)-time_steps):\n",
    "        X.append(dataset[i: i+time_steps])\n",
    "        y.append(dataset[i+time_steps])\n",
    "    return np.array(X), np.array(y)\n",
    "\n",
    "# size of the Input Sequence\n",
    "time_steps = 50\n",
    "X_train, y_train = create_sequences(train_data, time_steps)\n",
    "X_test, y_test = create_sequences(test_data, time_steps)\n"
   ]
  },
  {
   "cell_type": "code",
   "execution_count": 39,
   "id": "ff3140fc-209c-4c5a-8c9d-17b1b10fd03b",
   "metadata": {},
   "outputs": [
    {
     "name": "stdout",
     "output_type": "stream",
     "text": [
      "(2718, 50, 1) (2718, 1)\n",
      "(201, 50, 1) (201, 1)\n"
     ]
    }
   ],
   "source": [
    "# Normalizing data\n",
    "from sklearn.preprocessing import StandardScaler\n",
    "scaler = StandardScaler()\n",
    "\n",
    "X_train = scaler.fit_transform(X_train)\n",
    "X_test = scaler.transform(X_test)\n",
    "\n",
    "y_train = scaler.fit_transform(y_train.reshape(-1,1))\n",
    "y_test = scaler.transform(y_test.reshape(-1,1))\n",
    "\n",
    "\n",
    "# change the shape of Sequences for passing them further to LSTM \n",
    "X_train = X_train.reshape(X_train.shape[0], X_train.shape[1], 1)\n",
    "X_test = X_test.reshape(X_test.shape[0], X_test.shape[1], 1)\n",
    "\n",
    "print(X_train.shape, y_train.shape)\n",
    "print(X_test.shape, y_test.shape)"
   ]
  },
  {
   "cell_type": "code",
   "execution_count": 43,
   "id": "1d83df8e-9ee4-4cbd-b39d-4ee3c2d5530d",
   "metadata": {
    "scrolled": true
   },
   "outputs": [
    {
     "data": {
      "text/plain": [
       "array([[-0.96090106],\n",
       "       [-0.96262181],\n",
       "       [-0.96045391],\n",
       "       [-0.95917016],\n",
       "       [-0.96322293],\n",
       "       [-0.97068291],\n",
       "       [-0.97442026],\n",
       "       [-0.97752138],\n",
       "       [-0.97738064],\n",
       "       [-0.97955881],\n",
       "       [-0.97804688],\n",
       "       [-0.97752641],\n",
       "       [-0.98048493],\n",
       "       [-0.98157402],\n",
       "       [-0.98016263],\n",
       "       [-0.98249316],\n",
       "       [-0.97714718],\n",
       "       [-0.97461584],\n",
       "       [-0.97628251],\n",
       "       [-0.97726047],\n",
       "       [-0.98184035],\n",
       "       [-0.9884463 ],\n",
       "       [-1.01134475],\n",
       "       [-1.01342982],\n",
       "       [-1.0157527 ],\n",
       "       [-1.01255681],\n",
       "       [-1.0136186 ],\n",
       "       [-1.01109684],\n",
       "       [-1.01467461],\n",
       "       [-1.01293034],\n",
       "       [-1.00805213],\n",
       "       [-1.00889601],\n",
       "       [-1.00892035],\n",
       "       [-1.01370649],\n",
       "       [-1.01172039],\n",
       "       [-1.01608668],\n",
       "       [-1.01401468],\n",
       "       [-1.01597136],\n",
       "       [-1.01904469],\n",
       "       [-1.02087267],\n",
       "       [-1.02232244],\n",
       "       [-1.02091284],\n",
       "       [-1.02290279],\n",
       "       [-1.02276599],\n",
       "       [-1.02358791],\n",
       "       [-1.0272826 ],\n",
       "       [-1.0270366 ],\n",
       "       [-1.02741033],\n",
       "       [-1.02403639],\n",
       "       [-1.02438568]])"
      ]
     },
     "execution_count": 43,
     "metadata": {},
     "output_type": "execute_result"
    }
   ],
   "source": [
    "X_train[0]"
   ]
  },
  {
   "cell_type": "code",
   "execution_count": 45,
   "id": "da2a11a6-f63b-4787-9438-88d1da06acd0",
   "metadata": {},
   "outputs": [
    {
     "data": {
      "text/plain": [
       "array([-1.02528173])"
      ]
     },
     "execution_count": 45,
     "metadata": {},
     "output_type": "execute_result"
    }
   ],
   "source": [
    "y_train[0]"
   ]
  },
  {
   "cell_type": "markdown",
   "id": "fe4250d8-a70f-41f0-986d-95e86880d275",
   "metadata": {},
   "source": [
    "### Step-04 :- LSTM model building and evaluation"
   ]
  },
  {
   "cell_type": "code",
   "execution_count": 86,
   "id": "510117ec-158a-491d-b3e3-078e4e65a4b1",
   "metadata": {},
   "outputs": [
    {
     "data": {
      "text/html": [
       "<pre style=\"white-space:pre;overflow-x:auto;line-height:normal;font-family:Menlo,'DejaVu Sans Mono',consolas,'Courier New',monospace\"><span style=\"font-weight: bold\">Model: \"sequential_6\"</span>\n",
       "</pre>\n"
      ],
      "text/plain": [
       "\u001b[1mModel: \"sequential_6\"\u001b[0m\n"
      ]
     },
     "metadata": {},
     "output_type": "display_data"
    },
    {
     "data": {
      "text/html": [
       "<pre style=\"white-space:pre;overflow-x:auto;line-height:normal;font-family:Menlo,'DejaVu Sans Mono',consolas,'Courier New',monospace\">┏━━━━━━━━━━━━━━━━━━━━━━━━━━━━━━━━━━━━━━┳━━━━━━━━━━━━━━━━━━━━━━━━━━━━━┳━━━━━━━━━━━━━━━━━┓\n",
       "┃<span style=\"font-weight: bold\"> Layer (type)                         </span>┃<span style=\"font-weight: bold\"> Output Shape                </span>┃<span style=\"font-weight: bold\">         Param # </span>┃\n",
       "┡━━━━━━━━━━━━━━━━━━━━━━━━━━━━━━━━━━━━━━╇━━━━━━━━━━━━━━━━━━━━━━━━━━━━━╇━━━━━━━━━━━━━━━━━┩\n",
       "│ lstm_12 (<span style=\"color: #0087ff; text-decoration-color: #0087ff\">LSTM</span>)                       │ (<span style=\"color: #00d7ff; text-decoration-color: #00d7ff\">None</span>, <span style=\"color: #00af00; text-decoration-color: #00af00\">50</span>, <span style=\"color: #00af00; text-decoration-color: #00af00\">50</span>)              │          <span style=\"color: #00af00; text-decoration-color: #00af00\">10,400</span> │\n",
       "├──────────────────────────────────────┼─────────────────────────────┼─────────────────┤\n",
       "│ lstm_13 (<span style=\"color: #0087ff; text-decoration-color: #0087ff\">LSTM</span>)                       │ (<span style=\"color: #00d7ff; text-decoration-color: #00d7ff\">None</span>, <span style=\"color: #00af00; text-decoration-color: #00af00\">50</span>)                  │          <span style=\"color: #00af00; text-decoration-color: #00af00\">20,200</span> │\n",
       "├──────────────────────────────────────┼─────────────────────────────┼─────────────────┤\n",
       "│ dense_6 (<span style=\"color: #0087ff; text-decoration-color: #0087ff\">Dense</span>)                      │ (<span style=\"color: #00d7ff; text-decoration-color: #00d7ff\">None</span>, <span style=\"color: #00af00; text-decoration-color: #00af00\">1</span>)                   │              <span style=\"color: #00af00; text-decoration-color: #00af00\">51</span> │\n",
       "└──────────────────────────────────────┴─────────────────────────────┴─────────────────┘\n",
       "</pre>\n"
      ],
      "text/plain": [
       "┏━━━━━━━━━━━━━━━━━━━━━━━━━━━━━━━━━━━━━━┳━━━━━━━━━━━━━━━━━━━━━━━━━━━━━┳━━━━━━━━━━━━━━━━━┓\n",
       "┃\u001b[1m \u001b[0m\u001b[1mLayer (type)                        \u001b[0m\u001b[1m \u001b[0m┃\u001b[1m \u001b[0m\u001b[1mOutput Shape               \u001b[0m\u001b[1m \u001b[0m┃\u001b[1m \u001b[0m\u001b[1m        Param #\u001b[0m\u001b[1m \u001b[0m┃\n",
       "┡━━━━━━━━━━━━━━━━━━━━━━━━━━━━━━━━━━━━━━╇━━━━━━━━━━━━━━━━━━━━━━━━━━━━━╇━━━━━━━━━━━━━━━━━┩\n",
       "│ lstm_12 (\u001b[38;5;33mLSTM\u001b[0m)                       │ (\u001b[38;5;45mNone\u001b[0m, \u001b[38;5;34m50\u001b[0m, \u001b[38;5;34m50\u001b[0m)              │          \u001b[38;5;34m10,400\u001b[0m │\n",
       "├──────────────────────────────────────┼─────────────────────────────┼─────────────────┤\n",
       "│ lstm_13 (\u001b[38;5;33mLSTM\u001b[0m)                       │ (\u001b[38;5;45mNone\u001b[0m, \u001b[38;5;34m50\u001b[0m)                  │          \u001b[38;5;34m20,200\u001b[0m │\n",
       "├──────────────────────────────────────┼─────────────────────────────┼─────────────────┤\n",
       "│ dense_6 (\u001b[38;5;33mDense\u001b[0m)                      │ (\u001b[38;5;45mNone\u001b[0m, \u001b[38;5;34m1\u001b[0m)                   │              \u001b[38;5;34m51\u001b[0m │\n",
       "└──────────────────────────────────────┴─────────────────────────────┴─────────────────┘\n"
      ]
     },
     "metadata": {},
     "output_type": "display_data"
    },
    {
     "data": {
      "text/html": [
       "<pre style=\"white-space:pre;overflow-x:auto;line-height:normal;font-family:Menlo,'DejaVu Sans Mono',consolas,'Courier New',monospace\"><span style=\"font-weight: bold\"> Total params: </span><span style=\"color: #00af00; text-decoration-color: #00af00\">30,651</span> (119.73 KB)\n",
       "</pre>\n"
      ],
      "text/plain": [
       "\u001b[1m Total params: \u001b[0m\u001b[38;5;34m30,651\u001b[0m (119.73 KB)\n"
      ]
     },
     "metadata": {},
     "output_type": "display_data"
    },
    {
     "data": {
      "text/html": [
       "<pre style=\"white-space:pre;overflow-x:auto;line-height:normal;font-family:Menlo,'DejaVu Sans Mono',consolas,'Courier New',monospace\"><span style=\"font-weight: bold\"> Trainable params: </span><span style=\"color: #00af00; text-decoration-color: #00af00\">30,651</span> (119.73 KB)\n",
       "</pre>\n"
      ],
      "text/plain": [
       "\u001b[1m Trainable params: \u001b[0m\u001b[38;5;34m30,651\u001b[0m (119.73 KB)\n"
      ]
     },
     "metadata": {},
     "output_type": "display_data"
    },
    {
     "data": {
      "text/html": [
       "<pre style=\"white-space:pre;overflow-x:auto;line-height:normal;font-family:Menlo,'DejaVu Sans Mono',consolas,'Courier New',monospace\"><span style=\"font-weight: bold\"> Non-trainable params: </span><span style=\"color: #00af00; text-decoration-color: #00af00\">0</span> (0.00 B)\n",
       "</pre>\n"
      ],
      "text/plain": [
       "\u001b[1m Non-trainable params: \u001b[0m\u001b[38;5;34m0\u001b[0m (0.00 B)\n"
      ]
     },
     "metadata": {},
     "output_type": "display_data"
    }
   ],
   "source": [
    "from tensorflow.keras.models import Sequential\n",
    "from tensorflow.keras.layers import LSTM, Dense\n",
    "\n",
    "model = Sequential([\n",
    "    LSTM(50, return_sequences=True, input_shape=(time_steps,1)),\n",
    "    LSTM(50, return_sequences=False),\n",
    "    Dense(1)\n",
    "])\n",
    "\n",
    "model.compile(optimizer=\"adam\", loss=\"mean_squared_error\")\n",
    "\n",
    "model.summary()"
   ]
  },
  {
   "cell_type": "code",
   "execution_count": 98,
   "id": "8000edf0-c60c-4099-a9d0-37197326b141",
   "metadata": {},
   "outputs": [
    {
     "name": "stdout",
     "output_type": "stream",
     "text": [
      "Epoch 1/5\n",
      "\u001b[1m170/170\u001b[0m \u001b[32m━━━━━━━━━━━━━━━━━━━━\u001b[0m\u001b[37m\u001b[0m \u001b[1m5s\u001b[0m 31ms/step - loss: 0.0055 - val_loss: 0.0456\n",
      "Epoch 2/5\n",
      "\u001b[1m170/170\u001b[0m \u001b[32m━━━━━━━━━━━━━━━━━━━━\u001b[0m\u001b[37m\u001b[0m \u001b[1m5s\u001b[0m 29ms/step - loss: 0.0027 - val_loss: 0.0800\n",
      "Epoch 3/5\n",
      "\u001b[1m170/170\u001b[0m \u001b[32m━━━━━━━━━━━━━━━━━━━━\u001b[0m\u001b[37m\u001b[0m \u001b[1m5s\u001b[0m 30ms/step - loss: 0.0025 - val_loss: 0.0269\n",
      "Epoch 4/5\n",
      "\u001b[1m170/170\u001b[0m \u001b[32m━━━━━━━━━━━━━━━━━━━━\u001b[0m\u001b[37m\u001b[0m \u001b[1m5s\u001b[0m 30ms/step - loss: 0.0024 - val_loss: 0.0183\n",
      "Epoch 5/5\n",
      "\u001b[1m170/170\u001b[0m \u001b[32m━━━━━━━━━━━━━━━━━━━━\u001b[0m\u001b[37m\u001b[0m \u001b[1m5s\u001b[0m 30ms/step - loss: 0.0037 - val_loss: 0.0768\n"
     ]
    }
   ],
   "source": [
    "# training the \n",
    "model_history = model.fit(X_train, y_train, epochs=5, batch_size=16, validation_data=(X_test,y_test))"
   ]
  },
  {
   "cell_type": "code",
   "execution_count": 100,
   "id": "b2569177-b438-4c1e-8c2b-881f1caacdb4",
   "metadata": {},
   "outputs": [
    {
     "data": {
      "text/plain": [
       "[0.045637354254722595,\n",
       " 0.07998146861791611,\n",
       " 0.0268869549036026,\n",
       " 0.01831757090985775,\n",
       " 0.07680299133062363]"
      ]
     },
     "execution_count": 100,
     "metadata": {},
     "output_type": "execute_result"
    }
   ],
   "source": [
    "model_history.history[\"val_loss\"]"
   ]
  },
  {
   "cell_type": "code",
   "execution_count": 102,
   "id": "dcc58053-28de-4582-b29b-444d63afae06",
   "metadata": {},
   "outputs": [
    {
     "name": "stdout",
     "output_type": "stream",
     "text": [
      "\u001b[1m7/7\u001b[0m \u001b[32m━━━━━━━━━━━━━━━━━━━━\u001b[0m\u001b[37m\u001b[0m \u001b[1m0s\u001b[0m 17ms/step\n"
     ]
    },
    {
     "data": {
      "image/png": "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",
      "text/plain": [
       "<Figure size 640x480 with 1 Axes>"
      ]
     },
     "metadata": {},
     "output_type": "display_data"
    }
   ],
   "source": [
    "# Compare Actual and Predictions\n",
    "y_pred = model.predict(X_test)\n",
    "\n",
    "import matplotlib.pyplot as plt\n",
    "plt.plot(y_pred, label= \"Predictions\")\n",
    "plt.plot(y_test, label=\"Actual\")\n",
    "plt.legend()\n",
    "plt.show()"
   ]
  },
  {
   "cell_type": "code",
   "execution_count": 104,
   "id": "54e0516e-1d75-4ceb-94ca-c2980a00bceb",
   "metadata": {},
   "outputs": [
    {
     "name": "stdout",
     "output_type": "stream",
     "text": [
      "\u001b[1m7/7\u001b[0m \u001b[32m━━━━━━━━━━━━━━━━━━━━\u001b[0m\u001b[37m\u001b[0m \u001b[1m0s\u001b[0m 20ms/step - loss: 0.0488\n",
      "0.07680298388004303\n"
     ]
    }
   ],
   "source": [
    "results = model.evaluate(X_test, y_test)\n",
    "print(results)"
   ]
  },
{
  "cells": [
    {
      "cell_type": "code",
      "execution_count": 103,
      "id": "compare-predictions",
      "metadata": {},
      "outputs": [],
      "source": [
        "# Compare Actual and Predictions\n",
        "y_pred = model.predict(X_test)\n",
        "\n",
        "import matplotlib.pyplot as plt\n",
        "plt.plot(y_pred, label=\"Predictions\")\n",
        "plt.plot(y_test, label=\"Actual\")\n",
        "plt.legend()\n",
        "plt.show()"
      ]
    },
    {
      "cell_type": "code",
      "execution_count": 104,
      "id": "evaluate-model",
      "metadata": {},
      "outputs": [
        {
          "name": "stdout",
          "output_type": "stream",
          "text": [
            "\u001b[1m7/7\u001b[0m \u001b[32m━━━━━━━━━━━━━━━━━━━━\u001b[0m\u001b[37m\u001b[0m \u001b[1m0s\u001b[0m 20ms/step - loss: 0.0488\n",
            "0.07680298388004303\n"
          ]
        }
      ],
      "source": [
        "results = model.evaluate(X_test, y_test)\n",
        "print(results)"
      ]
    },
    {
      "cell_type": "code",
      "execution_count": null,
      "id": "predict-next-day-stock",
      "metadata": {},
      "outputs": [],
      "source": [
        "# ✅ Predict next day stock value from last 50 days of test data and plot\n",
        "last_50_days = test_data[-time_steps:]\n",
        "\n",
        "# Scale the input\n",
        "last_50_days_scaled = scaler.transform(last_50_days.reshape(-1, 1))\n",
        "\n",
        "# Reshape for LSTM input\n",
        "X_input = last_50_days_scaled.reshape(1, time_steps, 1)\n",
        "\n",
        "# Predict the next day stock price\n",
        "predicted_scaled_price = model.predict(X_input)\n",
        "predicted_price = scaler.inverse_transform(predicted_scaled_price)\n",
        "\n",
        "print(f\"📈 Predicted next day's Amazon stock price: ${predicted_price[0][0]:.2f}\")\n",
        "\n",
        "# Optional: Plot last 50 days + prediction\n",
        "import matplotlib.pyplot as plt\n",
        "\n",
        "plt.figure(figsize=(10, 5))\n",
        "plt.plot(range(50), last_50_days, label=\"Last 50 Days (Actual)\", marker='o')\n",
        "plt.plot(50, predicted_price[0][0], 'ro', label=\"Predicted Next Day\")\n",
        "plt.title(\"Amazon Stock Price Prediction\")\n",
        "plt.xlabel(\"Days\")\n",
        "plt.ylabel(\"Price (USD)\")\n",
        "plt.legend()\n",
        "plt.grid(True)\n",
        "plt.tight_layout()\n",
        "plt.show()"
      ]
    }
  ],
  "metadata": {
    "kernelspec": {
      "display_name": "Python [conda env:base] *",
      "language": "python",
      "name": "conda-base-py"
    },
    "language_info": {
      "codemirror_mode": {
        "name": "ipython",
        "version": 3
      },
      "file_extension": ".py",
      "mimetype": "text/x-python",
      "name": "python",
      "nbconvert_exporter": "python",
      "pygments_lexer": "ipython3",
      "version": "3.12.7"
    }
  },
  "nbformat": 4,
  "nbformat_minor": 5
}
}
