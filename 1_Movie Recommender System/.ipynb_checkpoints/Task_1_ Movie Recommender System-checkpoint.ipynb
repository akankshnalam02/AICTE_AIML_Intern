{
 "cells": [
  {
   "cell_type": "markdown",
   "id": "18fccf25-f854-41a4-bfcb-fb4c260fb352",
   "metadata": {},
   "source": [
    "# Task 1: Movie Recommender System\n",
    "\n",
    "**Task:** Build a Movie Recommendation System using Content-Based Filtering  \n",
    "**Dataset:** MovieLens  \n",
    "**Approach:** TF-IDF + Cosine Similarity on genres and user tags\n",
    "\n",
    "The recommender system suggests top 5 similar movies for a selected input, based on content metadata.\n"
   ]
  },
  {
   "cell_type": "code",
   "execution_count": 2,
   "id": "648fb335",
   "metadata": {},
   "outputs": [],
   "source": [
    "# STEP 1: Import essential libraries\n",
    "import pandas as pd\n",
    "import numpy as np"
   ]
  },
  {
   "cell_type": "code",
   "execution_count": 3,
   "id": "94804beb",
   "metadata": {},
   "outputs": [],
   "source": [
    "# For visualization\n",
    "import matplotlib.pyplot as plt\n",
    "import seaborn as sns"
   ]
  },
  {
   "cell_type": "code",
   "execution_count": 4,
   "id": "06943c2f",
   "metadata": {},
   "outputs": [],
   "source": [
    "# For content-based filtering\n",
    "from sklearn.feature_extraction.text import TfidfVectorizer\n",
    "from sklearn.metrics.pairwise import linear_kernel"
   ]
  },
  {
   "cell_type": "code",
   "execution_count": 5,
   "id": "82a3ce82",
   "metadata": {},
   "outputs": [],
   "source": [
    "# To ignore warnings\n",
    "import warnings\n",
    "warnings.filterwarnings('ignore')"
   ]
  },
  {
   "cell_type": "code",
   "execution_count": 6,
   "id": "91ec783f",
   "metadata": {},
   "outputs": [],
   "source": [
    "# STEP 2: Load datasets\n",
    "movies = pd.read_csv(r\"C:\\Users\\akanksh_02\\AICTE_AIML_Intern\\1_Movie Recommender System\\movie_lens_data\\movie.csv\")            # movieId, title, genres\n",
    "ratings = pd.read_csv(r\"C:\\Users\\akanksh_02\\AICTE_AIML_Intern\\1_Movie Recommender System\\movie_lens_data\\rating.csv\")          # userId, movieId, rating, timestamp\n",
    "tags = pd.read_csv(r\"C:\\Users\\akanksh_02\\AICTE_AIML_Intern\\1_Movie Recommender System\\movie_lens_data\\tag.csv\")                # userId, movieId, tag, timestamp\n",
    "genome_scores = pd.read_csv(r\"C:\\Users\\akanksh_02\\AICTE_AIML_Intern\\1_Movie Recommender System\\movie_lens_data\\genome_scores.csv\")  # movieId, tagId, relevance\n",
    "genome_tags = pd.read_csv(r\"C:\\Users\\akanksh_02\\AICTE_AIML_Intern\\1_Movie Recommender System\\movie_lens_data\\genome_tags.csv\")      # tagId, tag\n",
    "links = pd.read_csv(r\"C:\\Users\\akanksh_02\\AICTE_AIML_Intern\\1_Movie Recommender System\\movie_lens_data\\link.csv\")              # movieId, imdbId, tmdbId"
   ]
  },
  {
   "cell_type": "code",
   "execution_count": 7,
   "id": "25536289-e99e-44fe-a317-5b8a49971e76",
   "metadata": {},
   "outputs": [
    {
     "name": "stdout",
     "output_type": "stream",
     "text": [
      "Movies:\n",
      "    movieId                               title  \\\n",
      "0        1                    Toy Story (1995)   \n",
      "1        2                      Jumanji (1995)   \n",
      "2        3             Grumpier Old Men (1995)   \n",
      "3        4            Waiting to Exhale (1995)   \n",
      "4        5  Father of the Bride Part II (1995)   \n",
      "\n",
      "                                        genres  \n",
      "0  Adventure|Animation|Children|Comedy|Fantasy  \n",
      "1                   Adventure|Children|Fantasy  \n",
      "2                               Comedy|Romance  \n",
      "3                         Comedy|Drama|Romance  \n",
      "4                                       Comedy   \n",
      "\n"
     ]
    }
   ],
   "source": [
    "#STEP 3: Quick look at the data\n",
    "print(\"Movies:\\n\", movies.head(), \"\\n\")"
   ]
  },
  {
   "cell_type": "code",
   "execution_count": 8,
   "id": "79d4f21e-e622-4bdb-aaca-b40c5daf5534",
   "metadata": {},
   "outputs": [
    {
     "name": "stdout",
     "output_type": "stream",
     "text": [
      "Ratings:\n",
      "    userId  movieId  rating            timestamp\n",
      "0       1        2     3.5  2005-04-02 23:53:47\n",
      "1       1       29     3.5  2005-04-02 23:31:16\n",
      "2       1       32     3.5  2005-04-02 23:33:39\n",
      "3       1       47     3.5  2005-04-02 23:32:07\n",
      "4       1       50     3.5  2005-04-02 23:29:40 \n",
      "\n"
     ]
    }
   ],
   "source": [
    "print(\"Ratings:\\n\", ratings.head(), \"\\n\")"
   ]
  },
  {
   "cell_type": "code",
   "execution_count": 9,
   "id": "599f2fa2-73cc-4ef9-9274-ac0113dd957e",
   "metadata": {},
   "outputs": [
    {
     "name": "stdout",
     "output_type": "stream",
     "text": [
      "Tags:\n",
      "    userId  movieId            tag            timestamp\n",
      "0      18     4141    Mark Waters  2009-04-24 18:19:40\n",
      "1      65      208      dark hero  2013-05-10 01:41:18\n",
      "2      65      353      dark hero  2013-05-10 01:41:19\n",
      "3      65      521  noir thriller  2013-05-10 01:39:43\n",
      "4      65      592      dark hero  2013-05-10 01:41:18 \n",
      "\n"
     ]
    }
   ],
   "source": [
    "print(\"Tags:\\n\", tags.head(), \"\\n\")"
   ]
  },
  {
   "cell_type": "markdown",
   "id": "9ea69612-9aa9-461e-9d56-2ba3a9ea7eed",
   "metadata": {},
   "source": [
    "### Pre-Processing"
   ]
  },
  {
   "cell_type": "code",
   "execution_count": 11,
   "id": "4d0f7054-9bd1-4b9f-8fc2-e7c6c136393d",
   "metadata": {},
   "outputs": [],
   "source": [
    "# STEP 1: Fill missing genres with empty strings (precaution)\n",
    "movies['genres'] = movies['genres'].fillna('')"
   ]
  },
  {
   "cell_type": "code",
   "execution_count": 12,
   "id": "6547ec0b-0292-4a13-aab9-147ca95b2344",
   "metadata": {},
   "outputs": [],
   "source": [
    "# STEP 2: Preprocess genres\n",
    "# The genres are pipe-separated like \"Action|Adventure|Fantasy\"\n",
    "# We'll replace '|' with space so TF-IDF treats them as separate words\n",
    "movies['genres_cleaned'] = movies['genres'].str.replace('|', ' ', regex=False)"
   ]
  },
  {
   "cell_type": "markdown",
   "id": "5a954e0a-4a67-4f5a-a88f-04feb2839f23",
   "metadata": {},
   "source": [
    "### Feature Extraction"
   ]
  },
  {
   "cell_type": "code",
   "execution_count": 14,
   "id": "eb569da5-0f0f-4ac7-8d29-168644711943",
   "metadata": {},
   "outputs": [],
   "source": [
    "# STEP 3: TF-IDF Vectorization of genres\n",
    "# TF-IDF helps convert text to numeric vectors based on term importance\n",
    "tfidf = TfidfVectorizer(stop_words='english')\n",
    "tfidf_matrix = tfidf.fit_transform(movies['genres_cleaned'])"
   ]
  },
  {
   "cell_type": "code",
   "execution_count": 15,
   "id": "3eeb6a36-ee4d-4469-b0a6-02c13638e2b9",
   "metadata": {},
   "outputs": [
    {
     "name": "stdout",
     "output_type": "stream",
     "text": [
      "TF-IDF matrix shape: (27278, 23)\n"
     ]
    }
   ],
   "source": [
    "# Shape: (number of movies, number of unique genre terms)\n",
    "print(\"TF-IDF matrix shape:\", tfidf_matrix.shape)"
   ]
  },
  {
   "cell_type": "code",
   "execution_count": 16,
   "id": "c68941d8-5b6e-462f-a959-00581e9a2262",
   "metadata": {},
   "outputs": [],
   "source": [
    "# STEP 4: Compute cosine similarity between movies\n",
    "# This gives a similarity score between every pair of movies\n",
    "from sklearn.metrics.pairwise import cosine_similarity\n",
    "cosine_sim = cosine_similarity(tfidf_matrix, tfidf_matrix)"
   ]
  },
  {
   "cell_type": "code",
   "execution_count": 17,
   "id": "906ecb9f-ec0c-4b54-88cb-65ab0f45574b",
   "metadata": {},
   "outputs": [],
   "source": [
    "# STEP 5: Build a reverse map of movie titles to index\n",
    "# This helps us retrieve the index of any movie by its title\n",
    "indices = pd.Series(movies.index, index=movies['title']).drop_duplicates()"
   ]
  },
  {
   "cell_type": "code",
   "execution_count": 18,
   "id": "7120a7f5-4502-4da3-bed5-0b13e90ffae9",
   "metadata": {},
   "outputs": [],
   "source": [
    "# Function to get movie recommendations\n",
    "def get_recommendations(title, cosine_sim=cosine_sim):\n",
    "    # Get the index of the movie that matches the title\n",
    "    idx = indices.get(title)\n",
    "\n",
    "    if idx is None:\n",
    "        return [\"Movie not found. Please check spelling.\"]\n",
    "\n",
    "    # Get pairwise similarity scores for all movies with that movie\n",
    "    sim_scores = list(enumerate(cosine_sim[idx]))\n",
    "\n",
    "    # Sort movies based on similarity scores (high to low)\n",
    "    sim_scores = sorted(sim_scores, key=lambda x: x[1], reverse=True)\n",
    "\n",
    "    # Get the scores of the 6 most similar movies (excluding itself)\n",
    "    sim_scores = sim_scores[1:6]\n",
    "\n",
    "    # Get the movie indices\n",
    "    movie_indices = [i[0] for i in sim_scores]\n",
    "\n",
    "    # Return the top 5 similar movie titles\n",
    "    return movies['title'].iloc[movie_indices].tolist()\n"
   ]
  },
  {
   "cell_type": "code",
   "execution_count": 19,
   "id": "8453948b-9242-4881-8e4f-397b14405a35",
   "metadata": {},
   "outputs": [
    {
     "name": "stdout",
     "output_type": "stream",
     "text": [
      "Top 5 recommended movies:\n",
      " ['Antz (1998)', 'Toy Story 2 (1999)', 'Adventures of Rocky and Bullwinkle, The (2000)', \"Emperor's New Groove, The (2000)\", 'Monsters, Inc. (2001)']\n"
     ]
    }
   ],
   "source": [
    "# Example: Get top 5 movies similar to 'Toy Story (1995)'\n",
    "recommended_movies = get_recommendations('Toy Story (1995)')\n",
    "print(\"Top 5 recommended movies:\\n\", recommended_movies)"
   ]
  },
  {
   "cell_type": "markdown",
   "id": "7b41bc09-95e0-48d0-b322-de4c0daacf42",
   "metadata": {},
   "source": [
    "\n",
    "\n",
    "##  Enhancing Recommendations Using User Tags\n",
    "\n",
    "To improve the quality of movie recommendations, we now include **user-generated tags** from the `genome_scores` and `genome_tags` datasets.\n",
    "\n",
    "Each tag has a **relevance score** for a movie, indicating how strongly the tag applies. By selecting the **top 15 most relevant tags per movie**, we can build a richer profile for each film.\n",
    "\n",
    "###  Updated Profile Components:\n",
    "- **Genres** (from original movie metadata)\n",
    "- **Top Tags** (based on tag relevance scores)\n",
    "\n",
    "These combined features will be vectorized using TF-IDF again, and a new **cosine similarity matrix** will be computed for more accurate content-based recommendations.\n",
    "\n",
    "\n"
   ]
  },
  {
   "cell_type": "code",
   "execution_count": 21,
   "id": "427024d7-a5c2-453d-be8b-f5f5d70bb9e7",
   "metadata": {},
   "outputs": [],
   "source": [
    "# Step A2: Merge genome_scores with genome_tags to get readable tag names\n",
    "genome_data = pd.merge(genome_scores, genome_tags, on='tagId')\n"
   ]
  },
  {
   "cell_type": "code",
   "execution_count": 22,
   "id": "6186922e-139d-4245-90f5-836c7946c817",
   "metadata": {},
   "outputs": [],
   "source": [
    "# Step A3: For each movie, get the top N tags with highest relevance score\n",
    "top_n = 15  # You can adjust this number\n",
    "top_tags_per_movie = genome_data.sort_values(['movieId', 'relevance'], ascending=[True, False])\\\n",
    "                                .groupby('movieId').head(top_n)\n"
   ]
  },
  {
   "cell_type": "code",
   "execution_count": 23,
   "id": "91af9d0b-b01d-4deb-ac6e-a4c998d03c57",
   "metadata": {},
   "outputs": [],
   "source": [
    "# Step A4: Group top tags into a single string per movie\n",
    "movie_tags = top_tags_per_movie.groupby('movieId')['tag'].apply(lambda tags: ' '.join(tags)).reset_index()"
   ]
  },
  {
   "cell_type": "code",
   "execution_count": 24,
   "id": "82e69088-6a5e-4c5f-a89a-f3c50cbb09d4",
   "metadata": {},
   "outputs": [],
   "source": [
    "# Step A5: Merge tags with original movies dataframe\n",
    "movies_with_tags = pd.merge(movies, movie_tags, on='movieId', how='left')"
   ]
  },
  {
   "cell_type": "code",
   "execution_count": 25,
   "id": "39aa0fbe-b602-46cd-a1bb-8364840c1735",
   "metadata": {},
   "outputs": [],
   "source": [
    "# Fill missing tag values with empty string\n",
    "movies_with_tags['tag'] = movies_with_tags['tag'].fillna('')"
   ]
  },
  {
   "cell_type": "code",
   "execution_count": 26,
   "id": "dfc7e3b3-8996-4be9-aab9-65683b6607e6",
   "metadata": {},
   "outputs": [],
   "source": [
    "# Step A6: Combine genres and tags into a single 'profile' column\n",
    "movies_with_tags['genres'] = movies_with_tags['genres'].fillna('')\n",
    "movies_with_tags['profile'] = movies_with_tags['genres'] + ' ' + movies_with_tags['tag']"
   ]
  },
  {
   "cell_type": "code",
   "execution_count": 27,
   "id": "d39d177d-82a1-4dc6-b2e3-3de9aba97d28",
   "metadata": {},
   "outputs": [],
   "source": [
    "# Step A7: Vectorize the new profile using TF-IDF\n",
    "from sklearn.feature_extraction.text import TfidfVectorizer"
   ]
  },
  {
   "cell_type": "code",
   "execution_count": 28,
   "id": "ed2ed663-fe1c-43dd-8457-d122cabbfd24",
   "metadata": {},
   "outputs": [],
   "source": [
    "tfidf_vectorizer = TfidfVectorizer(stop_words='english')\n",
    "tfidf_matrix_tags = tfidf_vectorizer.fit_transform(movies_with_tags['profile'])"
   ]
  },
  {
   "cell_type": "code",
   "execution_count": 29,
   "id": "19092433-1076-44b4-ab43-ddb48dbd46cf",
   "metadata": {},
   "outputs": [],
   "source": [
    "# Step A8: Compute cosine similarity\n",
    "from sklearn.metrics.pairwise import linear_kernel\n",
    "cosine_sim_tags = linear_kernel(tfidf_matrix_tags, tfidf_matrix_tags)"
   ]
  },
  {
   "cell_type": "code",
   "execution_count": 30,
   "id": "c1d86bd8-8bc4-4952-ae0b-3f32c29a25a4",
   "metadata": {},
   "outputs": [],
   "source": [
    "# Step A9: Create reverse index for titles (needed for recommendations)\n",
    "indices_tags = pd.Series(movies_with_tags.index, index=movies_with_tags['title']).drop_duplicates()"
   ]
  },
  {
   "cell_type": "code",
   "execution_count": 31,
   "id": "b6d5420d-2c7b-4770-8a23-0fb24453ec8d",
   "metadata": {},
   "outputs": [],
   "source": [
    "\n",
    "# Step A10: Final updated recommendation function using genres + tags\n",
    "def recommend_movies_with_tags(title, cosine_sim=cosine_sim_tags):\n",
    "    # Get index of the movie that matches the title\n",
    "    idx = indices_tags.get(title)\n",
    "\n",
    "    if idx is None:\n",
    "        print(f\" Movie titled '{title}' not found. Please try a valid title.\")\n",
    "        return []\n",
    "\n",
    "    # Get pairwise similarity scores\n",
    "    sim_scores = list(enumerate(cosine_sim[idx]))\n",
    "\n",
    "    # Sort movies based on similarity scores\n",
    "    sim_scores = sorted(sim_scores, key=lambda x: x[1], reverse=True)\n",
    "\n",
    "    # Get indices of top 5 most similar movies (excluding the first one = itself)\n",
    "    sim_scores = sim_scores[1:6]\n",
    "\n",
    "    # Get movie indices\n",
    "    movie_indices = [i[0] for i in sim_scores]\n",
    "\n",
    "    # Return top 5 recommended movie titles\n",
    "    return movies_with_tags['title'].iloc[movie_indices].tolist()\n"
   ]
  },
  {
   "cell_type": "code",
   "execution_count": 32,
   "id": "3716f826-8785-4477-ab8c-e1bfdd00d27b",
   "metadata": {},
   "outputs": [
    {
     "name": "stdout",
     "output_type": "stream",
     "text": [
      "Top 5 movies similar to 'Toy Story (1995)':\n"
     ]
    },
    {
     "data": {
      "text/plain": [
       "['Monsters, Inc. (2001)',\n",
       " \"Bug's Life, A (1998)\",\n",
       " 'Jimmy Neutron: Boy Genius (2001)',\n",
       " 'Toy Story 2 (1999)',\n",
       " 'Toy Story 3 (2010)']"
      ]
     },
     "execution_count": 32,
     "metadata": {},
     "output_type": "execute_result"
    }
   ],
   "source": [
    "print(\"Top 5 movies similar to 'Toy Story (1995)':\")\n",
    "recommend_movies_with_tags('Toy Story (1995)')\n"
   ]
  },
  {
   "cell_type": "code",
   "execution_count": null,
   "id": "68aae212-04e3-4230-bbce-d2946ef9b0f8",
   "metadata": {},
   "outputs": [],
   "source": []
  }
 ],
 "metadata": {
  "kernelspec": {
   "display_name": "Python [conda env:base] *",
   "language": "python",
   "name": "conda-base-py"
  },
  "language_info": {
   "codemirror_mode": {
    "name": "ipython",
    "version": 3
   },
   "file_extension": ".py",
   "mimetype": "text/x-python",
   "name": "python",
   "nbconvert_exporter": "python",
   "pygments_lexer": "ipython3",
   "version": "3.12.7"
  }
 },
 "nbformat": 4,
 "nbformat_minor": 5
}
